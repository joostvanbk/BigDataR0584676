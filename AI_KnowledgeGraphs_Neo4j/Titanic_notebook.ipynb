{
 "cells": [
  {
   "cell_type": "code",
   "execution_count": 101,
   "metadata": {
    "scrolled": true
   },
   "outputs": [
    {
     "data": {
      "text/plain": [
       "pclass         int64\n",
       "survived       int64\n",
       "name          object\n",
       "sex           object\n",
       "age          float64\n",
       "sibsp          int64\n",
       "parch          int64\n",
       "ticket        object\n",
       "fare         float64\n",
       "cabin         object\n",
       "embarked      object\n",
       "boat          object\n",
       "body         float64\n",
       "home.dest     object\n",
       "dtype: object"
      ]
     },
     "execution_count": 101,
     "metadata": {},
     "output_type": "execute_result"
    }
   ],
   "source": [
    "##imports\n",
    "import numpy as np\n",
    "import pandas as pd\n",
    "import matplotlib.pyplot as plt\n",
    "from scipy import stats\n",
    "from scipy.stats import mstats\n",
    "import seaborn as sns\n",
    "\n",
    "vuileboot = pd.read_excel(r'C:\\Users\\joost\\Desktop\\titanic3.xls')\n",
    "##opschonen database, enkel rijen verwijderen waarbij 'age' en 'pclass' onbekend zijn.\n",
    "boot= vuileboot.dropna( subset= ['age', 'pclass'], how='any')\n",
    "## kijken welke columns deze dataset bevat en welke datatypes daarbij horen.\n",
    "boot.columns\n",
    "boot.dtypes"
   ]
  },
  {
   "cell_type": "code",
   "execution_count": 25,
   "metadata": {},
   "outputs": [
    {
     "data": {
      "text/plain": [
       "0    809\n",
       "1    500\n",
       "Name: survived, dtype: int64"
      ]
     },
     "execution_count": 25,
     "metadata": {},
     "output_type": "execute_result"
    }
   ],
   "source": [
    "## aantal overlevende, waarde 1 betekend dat ze de ramp overleeft hebben.\n",
    "boot['survived'].value_counts()\n"
   ]
  },
  {
   "cell_type": "code",
   "execution_count": 27,
   "metadata": {},
   "outputs": [
    {
     "data": {
      "text/plain": [
       "0    61.802903\n",
       "1    38.197097\n",
       "Name: survived, dtype: float64"
      ]
     },
     "execution_count": 27,
     "metadata": {},
     "output_type": "execute_result"
    }
   ],
   "source": [
    "## berekening van overlevingskans\n",
    "boot['survived'].value_counts(normalize=True) * 100\n"
   ]
  },
  {
   "cell_type": "code",
   "execution_count": 36,
   "metadata": {},
   "outputs": [
    {
     "name": "stdout",
     "output_type": "stream",
     "text": [
      "survived    0    1\n",
      "sex               \n",
      "female    127  339\n",
      "male      682  161\n",
      "\n",
      "Overlevingskans per geslacht\n",
      "survived         0         1\n",
      "sex                         \n",
      "female    0.272532  0.727468\n",
      "male      0.809015  0.190985\n",
      "\n",
      "totale spreiding van overlevingskans\n",
      "survived         0         1\n",
      "sex                         \n",
      "female    0.097021  0.258976\n",
      "male      0.521008  0.122995\n"
     ]
    }
   ],
   "source": [
    "aantal_geslacht = pd.crosstab(boot.sex, boot.survived)\n",
    "percentage_geslacht = pd.crosstab(boot.sex, boot.survived, normalize=\"index\")\n",
    "spreiding_geslacht = pd.crosstab(boot.sex, boot.survived, normalize=\"all\")\n",
    "print(aantal_geslacht);\n",
    "print();\n",
    "print(\"Overlevingskans per geslacht\")\n",
    "print(percentage_geslacht);\n",
    "print();\n",
    "print(\"totale spreiding van overlevingskans\");\n",
    "print(spreiding_geslacht);"
   ]
  },
  {
   "cell_type": "code",
   "execution_count": 79,
   "metadata": {},
   "outputs": [
    {
     "name": "stdout",
     "output_type": "stream",
     "text": [
      "de gemiddelde leeftijd aan boord was:  30.0\n",
      "de mediaan is:  28.0\n",
      "de modus: ModeResult(mode=array([24.]), count=array([47]))\n",
      "het bereik is:  79.8333\n"
     ]
    }
   ],
   "source": [
    "average = np.average(boot.age)\n",
    "bereik = np.max(boot.age) - np.min(boot.age)\n",
    "print(\"de gemiddelde leeftijd aan boord was: \", np.round(average))\n",
    "print(\"de mediaan is: \", np.median(boot.age))\n",
    "print(\"de modus:\", stats.mode(boot.age))\n",
    "print(\"het bereik is: \", bereik)\n"
   ]
  },
  {
   "cell_type": "code",
   "execution_count": 97,
   "metadata": {},
   "outputs": [
    {
     "data": {
      "image/png": "[encoded data removed]",
      "text/plain": [
       "<Figure size 432x288 with 1 Axes>"
      ]
     },
     "metadata": {
      "needs_background": "light"
     },
     "output_type": "display_data"
    },
    {
     "name": "stdout",
     "output_type": "stream",
     "text": [
      "count    1046.000000\n",
      "mean       29.881135\n",
      "std        14.413500\n",
      "min         0.166700\n",
      "25%        21.000000\n",
      "50%        28.000000\n",
      "75%        39.000000\n",
      "max        80.000000\n",
      "Name: age, dtype: float64\n"
     ]
    },
    {
     "data": {
      "text/plain": [
       "0.25    21.0\n",
       "0.50    28.0\n",
       "0.75    39.0\n",
       "1.00    80.0\n",
       "Name: age, dtype: float64"
      ]
     },
     "execution_count": 97,
     "metadata": {},
     "output_type": "execute_result"
    }
   ],
   "source": [
    "##tekenen van boxplot van de leeftijd met een beschrijving van heel wat nuttig informatie\n",
    "##zoals bijvoorbeeld het aantal records, gemiddelde, standaarddeviatie, min en max\n",
    "##en de interkwartielafstand\n",
    "plt.boxplot(boot.age,showmeans=True, whis= 99)\n",
    "plt.show()\n",
    "beschrijving = boot['age'].describe()\n",
    "print(beschrijving)"
   ]
  },
  {
   "cell_type": "code",
   "execution_count": 111,
   "metadata": {},
   "outputs": [
    {
     "data": {
      "text/plain": [
       "<seaborn.axisgrid.FacetGrid at 0x1a76c089898>"
      ]
     },
     "execution_count": 111,
     "metadata": {},
     "output_type": "execute_result"
    },
    {
     "data": {
      "image/png": "[encoded data removed]",
      "text/plain": [
       "<Figure size 432x216 with 2 Axes>"
      ]
     },
     "metadata": {
      "needs_background": "light"
     },
     "output_type": "display_data"
    }
   ],
   "source": [
    "age_hist = sns.FacetGrid(boot, col=\"survived\", hue=\"survived\")\n",
    "age_hist.map(plt.hist, 'age', bins=15)"
   ]
  },
  {
   "cell_type": "code",
   "execution_count": 129,
   "metadata": {},
   "outputs": [
    {
     "name": "stdout",
     "output_type": "stream",
     "text": [
      "[[ 1.         -0.05551252]\n",
      " [-0.05551252  1.        ]]\n",
      "[[ 1.         -0.32048636]\n",
      " [-0.32048636  1.        ]]\n",
      "\n",
      "correlatie tussen familieleden aan boord\n",
      "[[0.83204918 0.28683067]\n",
      " [0.28683067 0.70518082]]\n"
     ]
    }
   ],
   "source": [
    "relatie_leeftijd_overleefd = np.corrcoef(boot.age, boot.survived)\n",
    "relatie_klasse_overleefd = np.corrcoef(boot.pclass, boot.survived)\n",
    "## geen nuttige correlatiecoëfficient te vinden\n",
    "print(relatie_leeftijd_overleefd)\n",
    "print(relatie_klasse_overleefd)\n",
    "\n",
    "## Er is dus een possitieve correlatie tussen het aantal dichte familieleden(broer,zus,ouders)\n",
    "## en het aantal verdere familieleden(neven,nichten,nonkels,tantes)\n",
    "cov_sibsp_parch = np.cov(boot.sibsp, boot.parch)\n",
    "print()\n",
    "print('correlatie tussen familieleden aan boord')\n",
    "print(cov_leeftijd_overleefd)"
   ]
  },
  {
   "cell_type": "code",
   "execution_count": null,
   "metadata": {},
   "outputs": [],
   "source": []
  }
 ],
 "metadata": {
  "kernelspec": {
   "display_name": "Python 3",
   "language": "python",
   "name": "python3"
  },
  "language_info": {
   "codemirror_mode": {
    "name": "ipython",
    "version": 3
   },
   "file_extension": ".py",
   "mimetype": "text/x-python",
   "name": "python",
   "nbconvert_exporter": "python",
   "pygments_lexer": "ipython3",
   "version": "3.7.0"
  }
 },
 "nbformat": 4,
 "nbformat_minor": 2
}
